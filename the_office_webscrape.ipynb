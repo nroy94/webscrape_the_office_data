{
 "cells": [
  {
   "cell_type": "code",
   "execution_count": 2,
   "metadata": {},
   "outputs": [],
   "source": [
    "from bs4 import BeautifulSoup\n",
    "import lxml\n",
    "import requests\n",
    "import re\n",
    "import pandas"
   ]
  },
  {
   "cell_type": "code",
   "execution_count": 158,
   "metadata": {},
   "outputs": [],
   "source": [
    "url = 'https://theoffice.fandom.com/wiki/Pilot'\n",
    "\n",
    "response = requests.get(url)\n",
    "soup = BeautifulSoup(response.text, 'lxml')"
   ]
  },
  {
   "cell_type": "code",
   "execution_count": 159,
   "metadata": {},
   "outputs": [
    {
     "data": {
      "text/plain": [
       "'Pilot'"
      ]
     },
     "execution_count": 159,
     "metadata": {},
     "output_type": "execute_result"
    }
   ],
   "source": [
    "# finding the next link\n",
    "table = soup.find('section', class_ = 'pi-item pi-group pi-border-color')\n",
    "next_ep = table.find_all('div', class_='pi-data-value pi-font')[-1].find(href=True)['href']\n",
    "\n",
    "# find's a lot of good information\n",
    "ele = soup.find_all('div', class_ = 'pi-data-value pi-font') \n",
    "\n",
    "\n",
    "ele[7].text"
   ]
  },
  {
   "cell_type": "code",
   "execution_count": 122,
   "metadata": {},
   "outputs": [
    {
     "data": {
      "text/plain": [
       "'/wiki/Diversity_Day'"
      ]
     },
     "execution_count": 122,
     "metadata": {},
     "output_type": "execute_result"
    }
   ],
   "source": [
    "next_ep"
   ]
  },
  {
   "cell_type": "code",
   "execution_count": 166,
   "metadata": {},
   "outputs": [],
   "source": [
    "base = 'https://theoffice.fandom.com'\n",
    "url = 'https://theoffice.fandom.com/wiki/Pilot'\n",
    "links = []\n",
    "count = 0\n",
    "\n",
    "titles = []\n",
    "seasons = []\n",
    "dates = []\n",
    "writers = []\n",
    "directors = []\n",
    "\n",
    "while True:\n",
    "    \n",
    "    response = requests.get(url)\n",
    "    soup = BeautifulSoup(response.text, 'lxml')\n",
    "    \n",
    "    # finding data\n",
    "    ele = soup.find_all('div', class_ = 'pi-data-value pi-font')\n",
    "    \n",
    "    season = ele[0].text\n",
    "    seasons.append(season)\n",
    "    \n",
    "    date = ele[3].text\n",
    "    dates.append(date)\n",
    "    \n",
    "    writer = ele[4].text\n",
    "    writers.append(writer)\n",
    "    \n",
    "    director = ele[5].text\n",
    "    directors.append(director)\n",
    "    \n",
    "    title = ele[7].text\n",
    "    titles.append(title)\n",
    "    \n",
    "    # finding the class\n",
    "    table = soup.find('section', class_ = 'pi-item pi-group pi-border-color')  # table that has a box\n",
    "    try:\n",
    "        next_ep = table.find_all('div', class_='pi-data-value pi-font')[-1].find(href=True)['href']  # find the last element in the box, and in that, find a link\n",
    "    except TypeError: # when it hits Finale, it won't find a the href and it'll return an empty list which can't be subscripted and that'll return a type error\n",
    "        break\n",
    "    \n",
    "    url = base + next_ep\n",
    "    links.append(url)\n",
    "    \n",
    "    \n",
    "#     count += 1\n",
    "#     if count == 40:\n",
    "#         break"
   ]
  },
  {
   "cell_type": "code",
   "execution_count": 167,
   "metadata": {},
   "outputs": [],
   "source": [
    "import pandas as pd"
   ]
  },
  {
   "cell_type": "code",
   "execution_count": 168,
   "metadata": {},
   "outputs": [],
   "source": [
    "d = pd.DataFrame({\"season\":seasons,\n",
    "                  \"name\":titles,\n",
    "                  \"dates\":dates,\n",
    "                  \"writer\":writers,\n",
    "                  \"directors\":directors})"
   ]
  },
  {
   "cell_type": "code",
   "execution_count": 170,
   "metadata": {},
   "outputs": [],
   "source": [
    "d.to_csv(\"the_office_data.csv\")"
   ]
  },
  {
   "cell_type": "code",
   "execution_count": null,
   "metadata": {},
   "outputs": [],
   "source": []
  }
 ],
 "metadata": {
  "kernelspec": {
   "display_name": "Python 3",
   "language": "python",
   "name": "python3"
  },
  "language_info": {
   "codemirror_mode": {
    "name": "ipython",
    "version": 3
   },
   "file_extension": ".py",
   "mimetype": "text/x-python",
   "name": "python",
   "nbconvert_exporter": "python",
   "pygments_lexer": "ipython3",
   "version": "3.8.3"
  }
 },
 "nbformat": 4,
 "nbformat_minor": 4
}
