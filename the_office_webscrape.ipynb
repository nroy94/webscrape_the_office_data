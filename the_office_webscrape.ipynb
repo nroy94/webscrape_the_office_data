{
 "cells": [
  {
   "cell_type": "code",
   "execution_count": 2,
   "metadata": {},
   "outputs": [],
   "source": [
    "from bs4 import BeautifulSoup\n",
    "import lxml\n",
    "import requests\n",
    "import re\n",
    "import pandas"
   ]
  },
  {
   "cell_type": "markdown",
   "metadata": {},
   "source": [
    "## Idea\n",
    "\n",
    "Could we use this data and then the data from wikipedia/imdb (ratings) to see if the episodes that Karen's is on are better than the typical episode?"
   ]
  },
  {
   "cell_type": "code",
   "execution_count": 11,
   "metadata": {},
   "outputs": [],
   "source": [
    "url = 'https://theoffice.fandom.com/wiki/The_Convict'\n",
    "response = requests.get(url)\n",
    "soup = BeautifulSoup(response.text, 'lxml')"
   ]
  },
  {
   "cell_type": "code",
   "execution_count": 55,
   "metadata": {},
   "outputs": [
    {
     "data": {
      "text/plain": [
       "'Recurring cast'"
      ]
     },
     "execution_count": 55,
     "metadata": {},
     "output_type": "execute_result"
    }
   ],
   "source": [
    "# finding the next link\n",
    "table = soup.find('section', class_ = 'pi-item pi-group pi-border-color')\n",
    "# find the link to the next episode\n",
    "next_ep = table.find_all('div', class_='pi-data-value pi-font')[-1].find(href=True)['href']\n",
    "\n",
    "# find's a lot of good information\n",
    "ele = soup.find_all('div', class_ = 'pi-data-value pi-font') \n",
    "\n",
    "# the recurring cast\n",
    "page_uls = soup.find_all('ul')\n",
    "\n",
    "ele[7].text\n",
    "\n",
    "\"\"\"There's no good way to find the uls because we have no id so what I do is I go through all the ul's and see which\n",
    "one has a previous element that has the text of 'recurring cast.' \n",
    "\"\"\"\n",
    "for ul in page_uls:\n",
    "    if ul.find_previous().text == 'Recurring cast':\n",
    "        recur_cast_box = ul\n",
    "        \n",
    "page_uls[-12].find_previous().text\n",
    "#dir(soup)"
   ]
  },
  {
   "cell_type": "code",
   "execution_count": 65,
   "metadata": {},
   "outputs": [
    {
     "data": {
      "text/plain": [
       "['Andy Bernard',\n",
       " 'Karen Filippelli',\n",
       " 'Creed Bratton',\n",
       " 'Martin Nash',\n",
       " 'Hannah Smoterich-Barr']"
      ]
     },
     "execution_count": 65,
     "metadata": {},
     "output_type": "execute_result"
    }
   ],
   "source": [
    "# finding the second link which is the character's name\n",
    "\n",
    "recurring_cast = []\n",
    "\n",
    "for char in recur_cast_box.find_all(\"a\")[1::2]: # start with the character name and skip each actor name\n",
    "    recurring_cast.append(char.text)\n",
    "recurring_cast"
   ]
  },
  {
   "cell_type": "code",
   "execution_count": 13,
   "metadata": {},
   "outputs": [
    {
     "data": {
      "text/plain": [
       "'/wiki/A_Benihana_Christmas'"
      ]
     },
     "execution_count": 13,
     "metadata": {},
     "output_type": "execute_result"
    }
   ],
   "source": [
    "next_ep"
   ]
  },
  {
   "cell_type": "code",
   "execution_count": 75,
   "metadata": {},
   "outputs": [],
   "source": [
    "base = 'https://theoffice.fandom.com'\n",
    "url = 'https://theoffice.fandom.com/wiki/Pilot'\n",
    "links = []\n",
    "count = 0\n",
    "\n",
    "titles = []\n",
    "seasons = []\n",
    "dates = []\n",
    "writers = []\n",
    "directors = []\n",
    "\n",
    "ep_recurring_cast = []\n",
    "\n",
    "while True:\n",
    "    \n",
    "    response = requests.get(url)\n",
    "    soup = BeautifulSoup(response.text, 'lxml')\n",
    "    \n",
    "    # finding data\n",
    "    ele = soup.find_all('div', class_ = 'pi-data-value pi-font')\n",
    "    \n",
    "    season = ele[0].text\n",
    "    seasons.append(season)\n",
    "    \n",
    "    date = ele[3].text\n",
    "    dates.append(date)\n",
    "    \n",
    "    writer = ele[4].text\n",
    "    writers.append(writer)\n",
    "    \n",
    "    director = ele[5].text\n",
    "    directors.append(director)\n",
    "    \n",
    "    title = ele[7].text\n",
    "    titles.append(title)\n",
    "    \n",
    "    # find the recurring cast\n",
    "    \n",
    "    recurring_cast = [] # this will \n",
    "    \n",
    "    page_uls = soup.find_all('ul') # we find the uls which is the box that has the recurring cast\n",
    "    \n",
    "    for ul in page_uls:\n",
    "        if ul.find_previous().text == 'Recurring cast': # find the ul that has a element whose text is 'Recurring Cast'\n",
    "            recur_cast_box = ul\n",
    "\n",
    "            for char in recur_cast_box.find_all(\"a\")[1::2]: # start with the character name and skip each actor name\n",
    "                recurring_cast.append(char.text) \n",
    "    # add the sub-list\n",
    "    recurring_cast = \";\".join(recurring_cast)\n",
    "    ep_recurring_cast.append(recurring_cast)\n",
    "        \n",
    "    \n",
    "    # finding the the next episode\n",
    "    table = soup.find('section', class_ = 'pi-item pi-group pi-border-color')  # table that has a box\n",
    "    try:\n",
    "        next_ep = table.find_all('div', class_='pi-data-value pi-font')[-1].find(href=True)['href']  # find the last element in the box, and in that, find a link\n",
    "    except TypeError: # when it hits Finale, it won't find a the href and it'll return an empty list which can't be subscripted and that'll return a type error\n",
    "        break\n",
    "    \n",
    "    url = base + next_ep\n",
    "    links.append(url)\n",
    "    \n",
    "    \n",
    "    count += 1\n",
    "    if count == 5:\n",
    "        break"
   ]
  },
  {
   "cell_type": "code",
   "execution_count": 76,
   "metadata": {},
   "outputs": [
    {
     "data": {
      "text/plain": [
       "['Jan Levinson;Roy Anderson;Stanley Hudson;Kevin Malone;Angela Martin;Oscar Martinez;Phyllis Vance;Creed Bratton',\n",
       " 'Stanley Hudson;Kevin Malone;Meredith Palmer;Kelly Kapoor;Toby Flenderson;Angela Martin;Oscar Martinez;Phyllis Lapin;Creed Bratton;Devon White',\n",
       " 'Jan Levinson;Stanley Hudson;Kevin Malone;Meredith Palmer;Kelly Kapoor;Angela Martin;Toby Flenderson;Oscar Martinez;Phyllis Vance;Creed Bratton;Devon Abner',\n",
       " 'Roy Anderson;Stanley Hudson;Kevin Malone;Meredith Palmer;Angela Martin;Toby Flenderson;Oscar Martinez;Phyllis Vance;Darryl Philbin;Creed Bratton;Devon White',\n",
       " 'Darryl Philbin;Roy Anderson;Lonnie Collins;Jerry DiCanio;Madge Madsen;Stanley Hudson;Kevin Malone;Meredith Palmer;Angela Martin;Toby Flenderson;Oscar Martinez;Phyllis Vance;Jan Levinson;Philip;Creed Bratton;Devon White']"
      ]
     },
     "execution_count": 76,
     "metadata": {},
     "output_type": "execute_result"
    }
   ],
   "source": [
    "ep_recurring_cast"
   ]
  },
  {
   "cell_type": "code",
   "execution_count": 77,
   "metadata": {},
   "outputs": [],
   "source": [
    "import pandas as pd"
   ]
  },
  {
   "cell_type": "code",
   "execution_count": 78,
   "metadata": {},
   "outputs": [],
   "source": [
    "d = pd.DataFrame({\"season\":seasons,\n",
    "                  \"name\":titles,\n",
    "                  \"dates\":dates,\n",
    "                  \"writer\":writers,\n",
    "                  \"directors\":directors,\n",
    "                  \"recurring_cast\":ep_recurring_cast})"
   ]
  },
  {
   "cell_type": "code",
   "execution_count": 79,
   "metadata": {},
   "outputs": [
    {
     "data": {
      "text/html": [
       "<div>\n",
       "<style scoped>\n",
       "    .dataframe tbody tr th:only-of-type {\n",
       "        vertical-align: middle;\n",
       "    }\n",
       "\n",
       "    .dataframe tbody tr th {\n",
       "        vertical-align: top;\n",
       "    }\n",
       "\n",
       "    .dataframe thead th {\n",
       "        text-align: right;\n",
       "    }\n",
       "</style>\n",
       "<table border=\"1\" class=\"dataframe\">\n",
       "  <thead>\n",
       "    <tr style=\"text-align: right;\">\n",
       "      <th></th>\n",
       "      <th>season</th>\n",
       "      <th>name</th>\n",
       "      <th>dates</th>\n",
       "      <th>writer</th>\n",
       "      <th>directors</th>\n",
       "      <th>recurring_cast</th>\n",
       "    </tr>\n",
       "  </thead>\n",
       "  <tbody>\n",
       "    <tr>\n",
       "      <th>0</th>\n",
       "      <td>Season 1</td>\n",
       "      <td>Pilot</td>\n",
       "      <td>March 24, 2005</td>\n",
       "      <td>Ricky Gervais &amp; Stephen Merchant and Greg Daniels</td>\n",
       "      <td>Ken Kwapis</td>\n",
       "      <td>Jan Levinson;Roy Anderson;Stanley Hudson;Kevin...</td>\n",
       "    </tr>\n",
       "    <tr>\n",
       "      <th>1</th>\n",
       "      <td>1</td>\n",
       "      <td>Diversity Day</td>\n",
       "      <td>March 29, 2005</td>\n",
       "      <td>B.J. Novak</td>\n",
       "      <td>Ken Kwapis</td>\n",
       "      <td>Stanley Hudson;Kevin Malone;Meredith Palmer;Ke...</td>\n",
       "    </tr>\n",
       "    <tr>\n",
       "      <th>2</th>\n",
       "      <td>1</td>\n",
       "      <td>Health Care</td>\n",
       "      <td>April 5, 2005</td>\n",
       "      <td>Paul Lieberstein</td>\n",
       "      <td>Ken Whittingham</td>\n",
       "      <td>Jan Levinson;Stanley Hudson;Kevin Malone;Mered...</td>\n",
       "    </tr>\n",
       "    <tr>\n",
       "      <th>3</th>\n",
       "      <td>1</td>\n",
       "      <td>The Alliance</td>\n",
       "      <td>April 12, 2005</td>\n",
       "      <td>Michael Schur</td>\n",
       "      <td>Bryan Gordon</td>\n",
       "      <td>Roy Anderson;Stanley Hudson;Kevin Malone;Mered...</td>\n",
       "    </tr>\n",
       "    <tr>\n",
       "      <th>4</th>\n",
       "      <td>1</td>\n",
       "      <td>Basketball</td>\n",
       "      <td>April 19, 2005</td>\n",
       "      <td>Greg Daniels</td>\n",
       "      <td>Greg Daniels</td>\n",
       "      <td>Darryl Philbin;Roy Anderson;Lonnie Collins;Jer...</td>\n",
       "    </tr>\n",
       "  </tbody>\n",
       "</table>\n",
       "</div>"
      ],
      "text/plain": [
       "     season           name           dates  \\\n",
       "0  Season 1          Pilot  March 24, 2005   \n",
       "1         1  Diversity Day  March 29, 2005   \n",
       "2         1    Health Care   April 5, 2005   \n",
       "3         1   The Alliance  April 12, 2005   \n",
       "4         1     Basketball  April 19, 2005   \n",
       "\n",
       "                                              writer        directors  \\\n",
       "0  Ricky Gervais & Stephen Merchant and Greg Daniels       Ken Kwapis   \n",
       "1                                         B.J. Novak       Ken Kwapis   \n",
       "2                                   Paul Lieberstein  Ken Whittingham   \n",
       "3                                      Michael Schur     Bryan Gordon   \n",
       "4                                       Greg Daniels     Greg Daniels   \n",
       "\n",
       "                                      recurring_cast  \n",
       "0  Jan Levinson;Roy Anderson;Stanley Hudson;Kevin...  \n",
       "1  Stanley Hudson;Kevin Malone;Meredith Palmer;Ke...  \n",
       "2  Jan Levinson;Stanley Hudson;Kevin Malone;Mered...  \n",
       "3  Roy Anderson;Stanley Hudson;Kevin Malone;Mered...  \n",
       "4  Darryl Philbin;Roy Anderson;Lonnie Collins;Jer...  "
      ]
     },
     "execution_count": 79,
     "metadata": {},
     "output_type": "execute_result"
    }
   ],
   "source": [
    "d"
   ]
  },
  {
   "cell_type": "code",
   "execution_count": 170,
   "metadata": {},
   "outputs": [],
   "source": [
    "d.to_csv(\"the_office_data.csv\")"
   ]
  },
  {
   "cell_type": "code",
   "execution_count": null,
   "metadata": {},
   "outputs": [],
   "source": []
  }
 ],
 "metadata": {
  "kernelspec": {
   "display_name": "Python 3",
   "language": "python",
   "name": "python3"
  },
  "language_info": {
   "codemirror_mode": {
    "name": "ipython",
    "version": 3
   },
   "file_extension": ".py",
   "mimetype": "text/x-python",
   "name": "python",
   "nbconvert_exporter": "python",
   "pygments_lexer": "ipython3",
   "version": "3.8.3"
  }
 },
 "nbformat": 4,
 "nbformat_minor": 4
}
